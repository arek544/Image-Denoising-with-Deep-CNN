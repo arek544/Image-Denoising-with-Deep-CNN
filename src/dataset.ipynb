{
 "cells": [
  {
   "cell_type": "code",
   "execution_count": 1,
   "metadata": {
    "collapsed": true
   },
   "outputs": [],
   "source": [
    "import sys\n",
    "import os\n",
    "import numpy as np\n",
    "import matplotlib.pyplot as plt"
   ]
  },
  {
   "cell_type": "code",
   "execution_count": 25,
   "metadata": {
    "collapsed": true
   },
   "outputs": [],
   "source": [
    "HEIGHT = 96\n",
    "WIDTH = 96\n",
    "DEPTH = 3\n",
    "\n",
    "SIZE = HEIGHT*WIDTH*DEPTH"
   ]
  },
  {
   "cell_type": "code",
   "execution_count": 26,
   "metadata": {
    "collapsed": true
   },
   "outputs": [],
   "source": [
    "DATA_PATH = '../dataset/stl10_binary/train_X.bin'\n",
    "LABEL_PATH = '../dataset/stl10_binary/train_y.bin'"
   ]
  },
  {
   "cell_type": "code",
   "execution_count": 27,
   "metadata": {
    "collapsed": true
   },
   "outputs": [],
   "source": [
    "def read_labels(path_to_labels):\n",
    "    with open(path_to_labels, 'rb') as f:\n",
    "        labels = np.fromfile(f,dtype=np.uint8)\n",
    "        return labels"
   ]
  },
  {
   "cell_type": "code",
   "execution_count": 28,
   "metadata": {
    "collapsed": true
   },
   "outputs": [],
   "source": [
    "def read_all_images(path_to_data):\n",
    "    with open(path_to_data, 'rb') as f:\n",
    "        all_data = np.fromfile(f,dtype=np.uint8)\n",
    "        \n",
    "        #Data resized to 3x64x64\n",
    "        #-1 since size of the pictures depends on the input file\n",
    "        images = np.reshape(all_data, (-1, 3, HEIGHT, WIDTH))\n",
    "        \n",
    "        #Transposing to a standard image format\n",
    "        #Comment this line before training algorithms like CNNs\n",
    "        images = np.transpose(images, (0,3,2,1))\n",
    "        return images"
   ]
  },
  {
   "cell_type": "code",
   "execution_count": 29,
   "metadata": {
    "collapsed": true
   },
   "outputs": [],
   "source": [
    "def read_single_image(image_file):\n",
    "    image = np.fromfile(image_file,dtype=np.uint8,count=SIZE)\n",
    "    \n",
    "    image  = np.reshape(image,(3,HEIGHT,WIDTH))\n",
    "    \n",
    "    image = np.transpose(image, (2,1,0))\n",
    "    return image"
   ]
  },
  {
   "cell_type": "code",
   "execution_count": 30,
   "metadata": {
    "collapsed": true
   },
   "outputs": [],
   "source": [
    "def plot_image(image):\n",
    "    plt.imshow(image)\n",
    "    plt.show()"
   ]
  },
  {
   "cell_type": "code",
   "execution_count": 34,
   "metadata": {
    "collapsed": true
   },
   "outputs": [],
   "source": [
    "def display_one_image(image):\n",
    "    with open(DATA_PATH, 'rb') as f:\n",
    "        image=read_single_image(f)\n",
    "        plot_image(image)"
   ]
  },
  {
   "cell_type": "code",
   "execution_count": 36,
   "metadata": {
    "collapsed": true
   },
   "outputs": [],
   "source": [
    "def get_shape_of_dataset():\n",
    "    images= read_all_images(DATA_PATH)\n",
    "    return images.shape"
   ]
  },
  {
   "cell_type": "code",
   "execution_count": null,
   "metadata": {
    "collapsed": true
   },
   "outputs": [],
   "source": []
  },
  {
   "cell_type": "code",
   "execution_count": null,
   "metadata": {
    "collapsed": true
   },
   "outputs": [],
   "source": []
  }
 ],
 "metadata": {
  "kernelspec": {
   "display_name": "Python 2",
   "language": "python",
   "name": "python2"
  },
  "language_info": {
   "codemirror_mode": {
    "name": "ipython",
    "version": 2
   },
   "file_extension": ".py",
   "mimetype": "text/x-python",
   "name": "python",
   "nbconvert_exporter": "python",
   "pygments_lexer": "ipython2",
   "version": "2.7.11"
  }
 },
 "nbformat": 4,
 "nbformat_minor": 2
}
